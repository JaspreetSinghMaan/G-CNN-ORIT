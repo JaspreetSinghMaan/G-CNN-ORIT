{
  "nbformat": 4,
  "nbformat_minor": 0,
  "metadata": {
    "colab": {
      "name": "WACV2022.ipynb",
      "provenance": [],
      "collapsed_sections": []
    },
    "kernelspec": {
      "name": "python3",
      "display_name": "Python 3"
    },
    "language_info": {
      "name": "python"
    },
    "accelerator": "GPU"
  },
  "cells": [
    {
      "cell_type": "markdown",
      "metadata": {
        "id": "FaNIHTrY_70O"
      },
      "source": [
        "*WACV 2022 Submission #1151*\n",
        "\n",
        "*Learning Invariant Representations Using Polar Harmonic Transforms Equivariant Networks*\n",
        "\n",
        "Paper ID 1151\n",
        "\n",
        "Aug 20, 2021\n",
        "\n",
        "This Demo is tested in Google Colab:\n",
        "- Browser Google Chrome Version 92.0.4515.107 (Official Build) (64-bit)"
      ]
    },
    {
      "cell_type": "code",
      "metadata": {
        "colab": {
          "base_uri": "https://localhost:8080/"
        },
        "id": "Tg9timmirBVG",
        "outputId": "2392735d-2711-4a30-ae49-e912f96a5e56"
      },
      "source": [
        "pip install tensorflow==1.15"
      ],
      "execution_count": 1,
      "outputs": [
        {
          "output_type": "stream",
          "text": [
            "Collecting tensorflow==1.15\n",
            "  Downloading tensorflow-1.15.0-cp37-cp37m-manylinux2010_x86_64.whl (412.3 MB)\n",
            "\u001b[K     |████████████████████████████████| 412.3 MB 26 kB/s \n",
            "\u001b[?25hCollecting tensorboard<1.16.0,>=1.15.0\n",
            "  Downloading tensorboard-1.15.0-py3-none-any.whl (3.8 MB)\n",
            "\u001b[K     |████████████████████████████████| 3.8 MB 69.9 MB/s \n",
            "\u001b[?25hRequirement already satisfied: wheel>=0.26 in /usr/local/lib/python3.7/dist-packages (from tensorflow==1.15) (0.37.0)\n",
            "Collecting keras-applications>=1.0.8\n",
            "  Downloading Keras_Applications-1.0.8-py3-none-any.whl (50 kB)\n",
            "\u001b[K     |████████████████████████████████| 50 kB 7.2 MB/s \n",
            "\u001b[?25hRequirement already satisfied: termcolor>=1.1.0 in /usr/local/lib/python3.7/dist-packages (from tensorflow==1.15) (1.1.0)\n",
            "Requirement already satisfied: numpy<2.0,>=1.16.0 in /usr/local/lib/python3.7/dist-packages (from tensorflow==1.15) (1.19.5)\n",
            "Requirement already satisfied: keras-preprocessing>=1.0.5 in /usr/local/lib/python3.7/dist-packages (from tensorflow==1.15) (1.1.2)\n",
            "Requirement already satisfied: grpcio>=1.8.6 in /usr/local/lib/python3.7/dist-packages (from tensorflow==1.15) (1.39.0)\n",
            "Requirement already satisfied: wrapt>=1.11.1 in /usr/local/lib/python3.7/dist-packages (from tensorflow==1.15) (1.12.1)\n",
            "Requirement already satisfied: protobuf>=3.6.1 in /usr/local/lib/python3.7/dist-packages (from tensorflow==1.15) (3.17.3)\n",
            "Collecting tensorflow-estimator==1.15.1\n",
            "  Downloading tensorflow_estimator-1.15.1-py2.py3-none-any.whl (503 kB)\n",
            "\u001b[K     |████████████████████████████████| 503 kB 76.7 MB/s \n",
            "\u001b[?25hRequirement already satisfied: opt-einsum>=2.3.2 in /usr/local/lib/python3.7/dist-packages (from tensorflow==1.15) (3.3.0)\n",
            "Requirement already satisfied: google-pasta>=0.1.6 in /usr/local/lib/python3.7/dist-packages (from tensorflow==1.15) (0.2.0)\n",
            "Requirement already satisfied: six>=1.10.0 in /usr/local/lib/python3.7/dist-packages (from tensorflow==1.15) (1.15.0)\n",
            "Requirement already satisfied: astor>=0.6.0 in /usr/local/lib/python3.7/dist-packages (from tensorflow==1.15) (0.8.1)\n",
            "Requirement already satisfied: absl-py>=0.7.0 in /usr/local/lib/python3.7/dist-packages (from tensorflow==1.15) (0.12.0)\n",
            "Collecting gast==0.2.2\n",
            "  Downloading gast-0.2.2.tar.gz (10 kB)\n",
            "Requirement already satisfied: h5py in /usr/local/lib/python3.7/dist-packages (from keras-applications>=1.0.8->tensorflow==1.15) (3.1.0)\n",
            "Requirement already satisfied: werkzeug>=0.11.15 in /usr/local/lib/python3.7/dist-packages (from tensorboard<1.16.0,>=1.15.0->tensorflow==1.15) (1.0.1)\n",
            "Requirement already satisfied: markdown>=2.6.8 in /usr/local/lib/python3.7/dist-packages (from tensorboard<1.16.0,>=1.15.0->tensorflow==1.15) (3.3.4)\n",
            "Requirement already satisfied: setuptools>=41.0.0 in /usr/local/lib/python3.7/dist-packages (from tensorboard<1.16.0,>=1.15.0->tensorflow==1.15) (57.4.0)\n",
            "Requirement already satisfied: importlib-metadata in /usr/local/lib/python3.7/dist-packages (from markdown>=2.6.8->tensorboard<1.16.0,>=1.15.0->tensorflow==1.15) (4.6.4)\n",
            "Requirement already satisfied: cached-property in /usr/local/lib/python3.7/dist-packages (from h5py->keras-applications>=1.0.8->tensorflow==1.15) (1.5.2)\n",
            "Requirement already satisfied: typing-extensions>=3.6.4 in /usr/local/lib/python3.7/dist-packages (from importlib-metadata->markdown>=2.6.8->tensorboard<1.16.0,>=1.15.0->tensorflow==1.15) (3.7.4.3)\n",
            "Requirement already satisfied: zipp>=0.5 in /usr/local/lib/python3.7/dist-packages (from importlib-metadata->markdown>=2.6.8->tensorboard<1.16.0,>=1.15.0->tensorflow==1.15) (3.5.0)\n",
            "Building wheels for collected packages: gast\n",
            "  Building wheel for gast (setup.py) ... \u001b[?25l\u001b[?25hdone\n",
            "  Created wheel for gast: filename=gast-0.2.2-py3-none-any.whl size=7554 sha256=6192b9022804622b5d5e220b2193089d5fc29f210fa7fca6b5b7b76fc1c647eb\n",
            "  Stored in directory: /root/.cache/pip/wheels/21/7f/02/420f32a803f7d0967b48dd823da3f558c5166991bfd204eef3\n",
            "Successfully built gast\n",
            "Installing collected packages: tensorflow-estimator, tensorboard, keras-applications, gast, tensorflow\n",
            "  Attempting uninstall: tensorflow-estimator\n",
            "    Found existing installation: tensorflow-estimator 2.6.0\n",
            "    Uninstalling tensorflow-estimator-2.6.0:\n",
            "      Successfully uninstalled tensorflow-estimator-2.6.0\n",
            "  Attempting uninstall: tensorboard\n",
            "    Found existing installation: tensorboard 2.6.0\n",
            "    Uninstalling tensorboard-2.6.0:\n",
            "      Successfully uninstalled tensorboard-2.6.0\n",
            "  Attempting uninstall: gast\n",
            "    Found existing installation: gast 0.4.0\n",
            "    Uninstalling gast-0.4.0:\n",
            "      Successfully uninstalled gast-0.4.0\n",
            "  Attempting uninstall: tensorflow\n",
            "    Found existing installation: tensorflow 2.6.0\n",
            "    Uninstalling tensorflow-2.6.0:\n",
            "      Successfully uninstalled tensorflow-2.6.0\n",
            "\u001b[31mERROR: pip's dependency resolver does not currently take into account all the packages that are installed. This behaviour is the source of the following dependency conflicts.\n",
            "tensorflow-probability 0.13.0 requires gast>=0.3.2, but you have gast 0.2.2 which is incompatible.\n",
            "kapre 0.3.5 requires tensorflow>=2.0.0, but you have tensorflow 1.15.0 which is incompatible.\u001b[0m\n",
            "Successfully installed gast-0.2.2 keras-applications-1.0.8 tensorboard-1.15.0 tensorflow-1.15.0 tensorflow-estimator-1.15.1\n"
          ],
          "name": "stdout"
        }
      ]
    },
    {
      "cell_type": "code",
      "metadata": {
        "colab": {
          "base_uri": "https://localhost:8080/"
        },
        "id": "AYncGKaYrIzh",
        "outputId": "0688fcb0-97c1-4469-bb47-87eb6ab391c5"
      },
      "source": [
        "import sys\n",
        "from google.colab import drive\n",
        "drive.mount('/content/drive')\n",
        "sys.path.append('/content/drive/My Drive/SE2CNN-master/')"
      ],
      "execution_count": 2,
      "outputs": [
        {
          "output_type": "stream",
          "text": [
            "Mounted at /content/drive\n"
          ],
          "name": "stdout"
        }
      ]
    },
    {
      "cell_type": "code",
      "metadata": {
        "id": "PwHjdNRksANs"
      },
      "source": [
        "# Impor tensorflow and numpy\n",
        "import tensorflow as tf\n",
        "import numpy as np\n",
        "import math as m\n",
        "import time\n",
        "# For validation\n",
        "from sklearn.metrics import confusion_matrix\n",
        "import itertools\n",
        "\n",
        "# For plotting\n",
        "from matplotlib import pyplot as plt\n",
        "\n",
        "# Import the library\n",
        "import se2cnn.layers"
      ],
      "execution_count": 3,
      "outputs": []
    },
    {
      "cell_type": "code",
      "metadata": {
        "id": "MHMXIBbL6q8T"
      },
      "source": [
        "from ORIT_PCET import PCET"
      ],
      "execution_count": 4,
      "outputs": []
    },
    {
      "cell_type": "code",
      "metadata": {
        "colab": {
          "base_uri": "https://localhost:8080/"
        },
        "id": "yMnaxymhsMTe",
        "outputId": "d6e91ceb-201c-4783-fc71-61d49ce6c034"
      },
      "source": [
        "help(se2cnn.layers.z2_se2n)\n",
        "help(se2cnn.layers.se2n_se2n)\n",
        "help(se2cnn.layers.spatial_max_pool)"
      ],
      "execution_count": 5,
      "outputs": [
        {
          "output_type": "stream",
          "text": [
            "Help on function z2_se2n in module se2cnn.layers:\n",
            "\n",
            "z2_se2n(input_tensor, kernel, orientations_nb, periodicity=6.283185307179586, diskMask=True, padding='VALID')\n",
            "    Constructs a group convolutional layer.\n",
            "    (lifting layer from Z2 to SE2N with N input number of orientations)\n",
            "    \n",
            "    INPUT:\n",
            "        - input_tensor in Z2, a tensorflow Tensor with expected shape:\n",
            "            [BatchSize, Height, Width, ChannelsIN]\n",
            "        - kernel, a tensorflow Tensor with expected shape:\n",
            "            [kernelSize, kernelSize, ChannelsIN, ChannelsOUT]\n",
            "        - orientations_nb, an integer specifying the number of rotations\n",
            "    \n",
            "    INPUT (optional):\n",
            "        - periodicity, rotate in total over 2*np.pi or np.pi\n",
            "        - disk_mask, True or False, specifying whether or not to mask the kernels spatially\n",
            "    \n",
            "    OUTPUT:\n",
            "        - output_tensor, the tensor after group convolutions with shape\n",
            "            [BatchSize, Height', Width', orientations_nb, ChannelsOut]\n",
            "            (Height', Width' are reduced sizes due to the valid convolution)\n",
            "        - kernels_formatted, the formated kernels, i.e., the full stack of rotated kernels with shape:\n",
            "            [orientations_nb, kernelSize, kernelSize, ChannelsIN, ChannelsOUT]\n",
            "\n",
            "Help on function se2n_se2n in module se2cnn.layers:\n",
            "\n",
            "se2n_se2n(input_tensor, kernel, strides=[1, 1, 1, 1], periodicity=6.283185307179586, diskMask=True, padding='VALID')\n",
            "    Constructs a group convolutional layer.\n",
            "    (group convolution layer from SE2N to SE2N with N input number of orientations)\n",
            "    INPUT:\n",
            "        - input_tensor in SE2n, a tensor flow tensor with expected shape:\n",
            "            [BatchSize, nbOrientations, Height, Width, ChannelsIN]\n",
            "        - kernel, a tensorflow Tensor with expected shape:\n",
            "            [kernelSize, kernelSize, nbOrientations, ChannelsIN, ChannelsOUT]\n",
            "    \n",
            "    INPUT (optional):\n",
            "        - periodicity, rotate in total over 2*np.pi or np.pi\n",
            "        - disk_mask, True or False, specifying whether or not to mask the\n",
            "            kernels spatially\n",
            "    \n",
            "    OUTPUT:\n",
            "        - output_tensor, the tensor after group convolutions with shape\n",
            "            [BatchSize, Height', Width', nbOrientations, ChannelsOut]\n",
            "            (Height', Width' are the reduced sizes due to the valid convolution)\n",
            "        - kernels_formatted, the formated kernels, i.e., the full stack of\n",
            "            rotated kernels with shape [nbOrientations, kernelSize, kernelSize, nbOrientations, channelsIn, channelsOut]\n",
            "\n",
            "Help on function spatial_max_pool in module se2cnn.layers:\n",
            "\n",
            "spatial_max_pool(input_tensor, nbOrientations, padding='VALID')\n",
            "    Performs spatial max-pooling on every orientation of the SE2N tensor.\n",
            "    INPUT:\n",
            "        - input_tensor in SE2n, a tensor flow tensor with expected shape:\n",
            "            [BatchSize, Height, Width, nbOrientations, ChannelsIN]\n",
            "    \n",
            "    OUTPUT:\n",
            "        - output_tensor, the tensor after spatial max-pooling\n",
            "            [BatchSize, Height/2, Width/2, nbOrientations, ChannelsOut]\n",
            "\n"
          ],
          "name": "stdout"
        }
      ]
    },
    {
      "cell_type": "code",
      "metadata": {
        "id": "W6Gs0IUysTZz"
      },
      "source": [
        "# Xavier's/He-Rang-Zhen-Sun initialization for layers that are followed ReLU\n",
        "def weight_initializer(n_in, n_out):\n",
        "    return tf.random_normal_initializer(mean=0.0, stddev=m.sqrt(2.0 / (n_in))\n",
        "    )"
      ],
      "execution_count": 6,
      "outputs": []
    },
    {
      "cell_type": "code",
      "metadata": {
        "id": "ZSvHxoezsW__"
      },
      "source": [
        "def plot_confusion_matrix(cm, classes,\n",
        "                          normalize=False,\n",
        "                          title='Confusion matrix',\n",
        "                          cmap=plt.cm.Blues):\n",
        "    \"\"\"\n",
        "    This function prints and plots the confusion matrix.\n",
        "    Normalization can be applied by setting `normalize=True`.\n",
        "    \"\"\"\n",
        "    if normalize:\n",
        "        cm = cm.astype('float') / cm.sum(axis=1)[:, np.newaxis]\n",
        "        print(\"Normalized confusion matrix\")\n",
        "    else:\n",
        "        print('Confusion matrix, without normalization')\n",
        "\n",
        "    plt.imshow(cm, interpolation='nearest', cmap=cmap)\n",
        "    plt.title(title)\n",
        "    plt.colorbar()\n",
        "    tick_marks = np.arange(len(classes))\n",
        "    plt.xticks(tick_marks, classes, rotation=45)\n",
        "    plt.yticks(tick_marks, classes)\n",
        "\n",
        "    fmt = '.2f' if normalize else 'd'\n",
        "    thresh = cm.max() / 2.\n",
        "    for i, j in itertools.product(range(cm.shape[0]), range(cm.shape[1])):\n",
        "        plt.text(j, i, format(cm[i, j], fmt),\n",
        "                 horizontalalignment=\"center\",\n",
        "                 color=\"white\" if cm[i, j] > thresh else \"black\")\n",
        "\n",
        "    plt.tight_layout()\n",
        "    plt.ylabel('True label')\n",
        "    plt.xlabel('Predicted label')"
      ],
      "execution_count": 7,
      "outputs": []
    },
    {
      "cell_type": "code",
      "metadata": {
        "id": "bKgAv6LWsqn3"
      },
      "source": [
        "def size_of(tensor) :\n",
        "    # Multiply elements one by one\n",
        "    result = 1\n",
        "    for x in tensor.get_shape().as_list():\n",
        "         result = result * x \n",
        "    return result"
      ],
      "execution_count": 8,
      "outputs": []
    },
    {
      "cell_type": "code",
      "metadata": {
        "colab": {
          "base_uri": "https://localhost:8080/"
        },
        "id": "JT1H1KTeswqQ",
        "outputId": "7ed04e42-960c-41b0-f480-fb770964813e"
      },
      "source": [
        "mnist = tf.contrib.learn.datasets.load_dataset(\"mnist\")\n",
        "train_data = mnist.train.images # Returns np.array\n",
        "train_labels = np.asarray(mnist.train.labels, dtype=np.int32)\n",
        "valid_data = mnist.validation.images # Returns np.array\n",
        "valid_labels = np.asarray(mnist.validation.labels, dtype=np.int32)\n",
        "eval_data = mnist.test.images # Returns np.array\n",
        "eval_labels = np.asarray(mnist.test.labels, dtype=np.int32)"
      ],
      "execution_count": 9,
      "outputs": [
        {
          "output_type": "stream",
          "text": [
            "WARNING:tensorflow:\n",
            "The TensorFlow contrib module will not be included in TensorFlow 2.0.\n",
            "For more information, please see:\n",
            "  * https://github.com/tensorflow/community/blob/master/rfcs/20180907-contrib-sunset.md\n",
            "  * https://github.com/tensorflow/addons\n",
            "  * https://github.com/tensorflow/io (for I/O related ops)\n",
            "If you depend on functionality not listed there, please file an issue.\n",
            "\n",
            "WARNING:tensorflow:From <ipython-input-9-c009531ae0cf>:1: load_dataset (from tensorflow.contrib.learn.python.learn.datasets) is deprecated and will be removed in a future version.\n",
            "Instructions for updating:\n",
            "Please use tf.data.\n",
            "WARNING:tensorflow:From /usr/local/lib/python3.7/dist-packages/tensorflow_core/contrib/learn/python/learn/datasets/__init__.py:80: load_mnist (from tensorflow.contrib.learn.python.learn.datasets.mnist) is deprecated and will be removed in a future version.\n",
            "Instructions for updating:\n",
            "Please use alternatives such as official/mnist/dataset.py from tensorflow/models.\n",
            "WARNING:tensorflow:From /usr/local/lib/python3.7/dist-packages/tensorflow_core/contrib/learn/python/learn/datasets/mnist.py:300: read_data_sets (from tensorflow.contrib.learn.python.learn.datasets.mnist) is deprecated and will be removed in a future version.\n",
            "Instructions for updating:\n",
            "Please use alternatives such as official/mnist/dataset.py from tensorflow/models.\n",
            "WARNING:tensorflow:From /usr/local/lib/python3.7/dist-packages/tensorflow_core/contrib/learn/python/learn/datasets/mnist.py:260: maybe_download (from tensorflow.contrib.learn.python.learn.datasets.base) is deprecated and will be removed in a future version.\n",
            "Instructions for updating:\n",
            "Please write your own downloading logic.\n",
            "WARNING:tensorflow:From /usr/local/lib/python3.7/dist-packages/tensorflow_core/contrib/learn/python/learn/datasets/base.py:252: _internal_retry.<locals>.wrap.<locals>.wrapped_fn (from tensorflow.contrib.learn.python.learn.datasets.base) is deprecated and will be removed in a future version.\n",
            "Instructions for updating:\n",
            "Please use urllib or similar directly.\n",
            "Successfully downloaded train-images-idx3-ubyte.gz 9912422 bytes.\n",
            "WARNING:tensorflow:From /usr/local/lib/python3.7/dist-packages/tensorflow_core/contrib/learn/python/learn/datasets/mnist.py:262: extract_images (from tensorflow.contrib.learn.python.learn.datasets.mnist) is deprecated and will be removed in a future version.\n",
            "Instructions for updating:\n",
            "Please use tf.data to implement this functionality.\n",
            "Extracting MNIST-data/train-images-idx3-ubyte.gz\n",
            "Successfully downloaded train-labels-idx1-ubyte.gz 28881 bytes.\n",
            "WARNING:tensorflow:From /usr/local/lib/python3.7/dist-packages/tensorflow_core/contrib/learn/python/learn/datasets/mnist.py:267: extract_labels (from tensorflow.contrib.learn.python.learn.datasets.mnist) is deprecated and will be removed in a future version.\n",
            "Instructions for updating:\n",
            "Please use tf.data to implement this functionality.\n",
            "Extracting MNIST-data/train-labels-idx1-ubyte.gz\n",
            "Successfully downloaded t10k-images-idx3-ubyte.gz 1648877 bytes.\n",
            "Extracting MNIST-data/t10k-images-idx3-ubyte.gz\n",
            "Successfully downloaded t10k-labels-idx1-ubyte.gz 4542 bytes.\n",
            "Extracting MNIST-data/t10k-labels-idx1-ubyte.gz\n",
            "WARNING:tensorflow:From /usr/local/lib/python3.7/dist-packages/tensorflow_core/contrib/learn/python/learn/datasets/mnist.py:290: DataSet.__init__ (from tensorflow.contrib.learn.python.learn.datasets.mnist) is deprecated and will be removed in a future version.\n",
            "Instructions for updating:\n",
            "Please use alternatives such as official/mnist/dataset.py from tensorflow/models.\n"
          ],
          "name": "stdout"
        }
      ]
    },
    {
      "cell_type": "code",
      "metadata": {
        "colab": {
          "base_uri": "https://localhost:8080/"
        },
        "id": "6M1h1jLns2tb",
        "outputId": "6e0a6bc5-49e7-4733-8c80-b2ea188b40a1"
      },
      "source": [
        "print(valid_data.shape)"
      ],
      "execution_count": 10,
      "outputs": [
        {
          "output_type": "stream",
          "text": [
            "(5000, 784)\n"
          ],
          "name": "stdout"
        }
      ]
    },
    {
      "cell_type": "code",
      "metadata": {
        "colab": {
          "base_uri": "https://localhost:8080/",
          "height": 315
        },
        "id": "hIX-3CTZs850",
        "outputId": "3a7d9c21-7de4-4f47-aa51-16d0143ed654"
      },
      "source": [
        "# Reshape to 2D multi-channel images\n",
        "train_data_2D = train_data.reshape([len(train_data),28,28,1]) # [batch_size, Nx, Ny, Nc]\n",
        "eval_data_2D = eval_data.reshape([len(eval_data),28,28,1])\n",
        "print(type(train_labels))\n",
        "# Plot the first sample\n",
        "plt.plot()\n",
        "plt.title('Digit = %d' % train_labels[0])\n",
        "plt.imshow(train_data_2D[0,:,:,0])"
      ],
      "execution_count": 11,
      "outputs": [
        {
          "output_type": "stream",
          "text": [
            "<class 'numpy.ndarray'>\n"
          ],
          "name": "stdout"
        },
        {
          "output_type": "execute_result",
          "data": {
            "text/plain": [
              "<matplotlib.image.AxesImage at 0x7f386c29e0d0>"
            ]
          },
          "metadata": {},
          "execution_count": 11
        },
        {
          "output_type": "display_data",
          "data": {
            "image/png": "[encoded data removed]",
            "text/plain": [
              "<Figure size 432x288 with 1 Axes>"
            ]
          },
          "metadata": {
            "needs_background": "light"
          }
        }
      ]
    },
    {
      "cell_type": "code",
      "metadata": {
        "id": "eQ1HHA_htB6W"
      },
      "source": [
        "train_data_2D = np.pad(train_data_2D,((0,0),(2,2),(2,2),(0,0)),'constant', constant_values=((0,0),(0,0),(0,0),(0,0)))\n",
        "eval_data_2D = np.pad(eval_data_2D,((0,0),(2,2),(2,2),(0,0)),'constant', constant_values=((0,0),(0,0),(0,0),(0,0)))"
      ],
      "execution_count": 12,
      "outputs": []
    },
    {
      "cell_type": "code",
      "metadata": {
        "id": "r8fkFktgtIgn"
      },
      "source": [
        "graph = tf.Graph()\n",
        "graph.as_default()\n",
        "tf.reset_default_graph()"
      ],
      "execution_count": 13,
      "outputs": []
    },
    {
      "cell_type": "code",
      "metadata": {
        "id": "DOEdJ64etPSB"
      },
      "source": [
        "Ntheta = 12 # Kernel size in angular direction\n",
        "Nxy=5       # Kernel size in spatial direction\n",
        "Nc = 4      # Number of channels in the initial layer"
      ],
      "execution_count": 14,
      "outputs": []
    },
    {
      "cell_type": "code",
      "metadata": {
        "id": "LI1wR0tdtTXD"
      },
      "source": [
        "inputs_ph = tf.placeholder( dtype = tf.float32, shape = [None,32,32,1] )\n",
        "labels_ph = tf.placeholder( dtype = tf.int32, shape = [None,] )"
      ],
      "execution_count": 15,
      "outputs": []
    },
    {
      "cell_type": "code",
      "metadata": {
        "colab": {
          "base_uri": "https://localhost:8080/"
        },
        "id": "zt4iSuSttUzc",
        "outputId": "c0725b80-01b6-4cf7-a9b8-8f257b6e48bf"
      },
      "source": [
        "print(inputs_ph.shape)\n",
        "tensor_in = inputs_ph\n",
        "Nc_in = 1"
      ],
      "execution_count": 16,
      "outputs": [
        {
          "output_type": "stream",
          "text": [
            "(?, 32, 32, 1)\n"
          ],
          "name": "stdout"
        }
      ]
    },
    {
      "cell_type": "code",
      "metadata": {
        "id": "zHqWtyiFtXw5"
      },
      "source": [
        "kernels={}"
      ],
      "execution_count": 17,
      "outputs": []
    },
    {
      "cell_type": "code",
      "metadata": {
        "colab": {
          "base_uri": "https://localhost:8080/"
        },
        "id": "tn1EmdO4taSV",
        "outputId": "afc0e918-3445-46eb-e039-851b8298fef0"
      },
      "source": [
        "with tf.variable_scope(\"Layer_{}\".format(1)) as _scope:\n",
        "    ## Settings\n",
        "    Nc_out = Nc\n",
        "\n",
        "    ## Perform lifting convolution\n",
        "    # The kernels used in the lifting layer\n",
        "    kernels_raw = tf.get_variable(\n",
        "                        'kernel', \n",
        "                        [Nxy,Nxy,Nc_in,Nc_out],\n",
        "                        initializer=weight_initializer(Nxy*Nxy*Nc_in,Nc_out))\n",
        "    tf.add_to_collection('raw_kernels', kernels_raw)\n",
        "    bias = tf.get_variable( # Same bias for all orientations\n",
        "                        \"bias\",\n",
        "                        [1, 1, 1, 1, Nc_out], \n",
        "                        initializer=tf.constant_initializer(value=0.01))\n",
        "    # Lifting layer\n",
        "    tensor_out, kernels_formatted = se2cnn.layers.z2_se2n(\n",
        "                            input_tensor = tensor_in,\n",
        "                            kernel = kernels_raw,\n",
        "                            orientations_nb = Ntheta)\n",
        "    # Add bias\n",
        "    tensor_out = tensor_out + bias\n",
        "    \n",
        "    ## Perform (spatial) max-pooling\n",
        "    tensor_out = se2cnn.layers.spatial_max_pool( input_tensor=tensor_out, nbOrientations=Ntheta)\n",
        "    \n",
        "    ## Apply ReLU\n",
        "    tensor_out = tf.nn.relu(tensor_out)\n",
        "\n",
        "    ## Prepare for the next layer\n",
        "    tensor_in = tensor_out\n",
        "    Nc_in = Nc_out\n",
        "    \n",
        "    ## Save kernels for inspection\n",
        "    kernels[_scope.name] = kernels_formatted"
      ],
      "execution_count": 18,
      "outputs": [
        {
          "output_type": "stream",
          "text": [
            "Z2-SE2N BASE KERNEL SHAPE: (5, 5, 1, 4)\n",
            "WARNING:tensorflow:From /content/drive/My Drive/SE2CNN-master/se2cnn/layers.py:252: The name tf.sparse_tensor_dense_matmul is deprecated. Please use tf.sparse.sparse_dense_matmul instead.\n",
            "\n",
            "Z2-SE2N ROTATED KERNEL SET SHAPE: (12, 5, 5, 1, 4)\n",
            "OUTPUT SE2N ACTIVATIONS SHAPE: (?, 28, 28, 12, 4)\n",
            "WARNING:tensorflow:From /content/drive/My Drive/SE2CNN-master/se2cnn/layers.py:192: The name tf.nn.max_pool is deprecated. Please use tf.nn.max_pool2d instead.\n",
            "\n"
          ],
          "name": "stdout"
        }
      ]
    },
    {
      "cell_type": "code",
      "metadata": {
        "colab": {
          "base_uri": "https://localhost:8080/"
        },
        "id": "L5B3ytB3tkDA",
        "outputId": "5bd30af9-1137-4828-89a8-0c91762c38ab"
      },
      "source": [
        "tensor_in.get_shape()"
      ],
      "execution_count": 19,
      "outputs": [
        {
          "output_type": "execute_result",
          "data": {
            "text/plain": [
              "TensorShape([Dimension(None), Dimension(14), Dimension(14), Dimension(12), Dimension(4)])"
            ]
          },
          "metadata": {},
          "execution_count": 19
        }
      ]
    },
    {
      "cell_type": "code",
      "metadata": {
        "colab": {
          "base_uri": "https://localhost:8080/"
        },
        "id": "QogUHVz-togw",
        "outputId": "7f1bddcd-82ef-4dd0-cc2a-d1be0d24b616"
      },
      "source": [
        "with tf.variable_scope(\"Layer_{}\".format(2)) as _scope:\n",
        "    ## Settings\n",
        "    Nc_out = 2*Nc\n",
        "\n",
        "    ## Perform group convolution\n",
        "    # The kernels used in the group convolution layer\n",
        "    kernels_raw = tf.get_variable(\n",
        "                        'kernel', \n",
        "                        [Nxy,Nxy,Ntheta,Nc_in,Nc_out],\n",
        "                        initializer=weight_initializer(Nxy*Nxy*Ntheta*Nc_in,Nc_out))\n",
        "    tf.add_to_collection('raw_kernels', kernels_raw)\n",
        "    bias = tf.get_variable( # Same bias for all orientations\n",
        "                        \"bias\",\n",
        "                        [1, 1, 1, 1, Nc_out], \n",
        "                        initializer=tf.constant_initializer(value=0.01))\n",
        "    # The group convolution layer\n",
        "    tensor_out, kernels_formatted = se2cnn.layers.se2n_se2n(\n",
        "                            input_tensor = tensor_in,\n",
        "                            kernel = kernels_raw)\n",
        "    tensor_out = tensor_out + bias\n",
        "    \n",
        "    ## Perform max-pooling\n",
        "    tensor_out = se2cnn.layers.spatial_max_pool( input_tensor=tensor_out, nbOrientations=Ntheta)\n",
        "    \n",
        "    ## Apply ReLU\n",
        "    tensor_out = tf.nn.relu(tensor_out)\n",
        "\n",
        "    ## Prepare for the next layer\n",
        "    tensor_in = tensor_out\n",
        "    Nc_in = Nc_out\n",
        "    \n",
        "    ## Save kernels for inspection\n",
        "    kernels[_scope.name] = kernels_formatted"
      ],
      "execution_count": 20,
      "outputs": [
        {
          "output_type": "stream",
          "text": [
            "SE2N-SE2N BASE KERNEL SHAPE: (5, 5, 12, 4, 8)\n",
            "SE2N-SE2N ROTATED KERNEL SET SHAPE: (12, 5, 5, 12, 4, 8)\n",
            "OUTPUT SE2N ACTIVATIONS SHAPE: (?, 10, 10, 12, 8)\n"
          ],
          "name": "stdout"
        }
      ]
    },
    {
      "cell_type": "code",
      "metadata": {
        "colab": {
          "base_uri": "https://localhost:8080/"
        },
        "id": "moj03IXUtvTC",
        "outputId": "b9b7ba0d-e2c2-4f9b-beba-e9ff2fb5df18"
      },
      "source": [
        "tensor_in.get_shape()"
      ],
      "execution_count": 21,
      "outputs": [
        {
          "output_type": "execute_result",
          "data": {
            "text/plain": [
              "TensorShape([Dimension(None), Dimension(5), Dimension(5), Dimension(12), Dimension(8)])"
            ]
          },
          "metadata": {},
          "execution_count": 21
        }
      ]
    },
    {
      "cell_type": "code",
      "metadata": {
        "id": "smRyznDlt0bF"
      },
      "source": [
        "# Concatenate the orientation and channel dimension\n",
        "tensor_in = tf.concat([tensor_in[:,:,:,i,:] for i in range(Ntheta)],3)\n",
        "Nc_in = tensor_in.get_shape().as_list()[-1]\n",
        "\n",
        "# 2D convolution layer\n",
        "with tf.variable_scope(\"Layer_{}\".format(3)) as _scope:\n",
        "    ## Settings\n",
        "    Nc_out = 128\n",
        "\n",
        "    ## Perform group convolution\n",
        "    # The kernels used in the group convolution layer\n",
        "    kernels_raw = tf.get_variable(\n",
        "                        'kernel', \n",
        "                        [Nxy,Nxy,Nc_in,Nc_out],\n",
        "                        initializer=weight_initializer(Nxy*Nxy*Nc_in,Nc_out))\n",
        "    tf.add_to_collection('raw_kernels', kernels_raw)\n",
        "    bias = tf.get_variable( # Same bias for all orientations\n",
        "                        \"bias\",\n",
        "                        [1, 1, 1, Nc_out], \n",
        "                        initializer=tf.constant_initializer(value=0.01))\n",
        "    # Convolution layer\n",
        "    tensor_out = tf.nn.conv2d(\n",
        "                        input = tensor_in,\n",
        "                        filter=kernels_raw,\n",
        "                        strides=[1, 1, 1, 1],\n",
        "                        padding=\"SAME\")\n",
        "    tensor_out = tensor_out + bias\n",
        "    \n",
        "    ## Apply ReLU\n",
        "    tensor_out = tf.nn.relu(tensor_out)\n",
        "\n",
        "    ## Prepare for the next layer\n",
        "    tensor_in = tensor_out\n",
        "    Nc_in = Nc_out\n",
        "    \n",
        "    ## Save kernels for inspection\n",
        "    kernels[_scope.name] = kernels_raw"
      ],
      "execution_count": 22,
      "outputs": []
    },
    {
      "cell_type": "code",
      "metadata": {
        "colab": {
          "base_uri": "https://localhost:8080/"
        },
        "id": "bCNhpkjEt5-J",
        "outputId": "f3e4abf6-0d5f-4046-cfd2-8c11f539aaa9"
      },
      "source": [
        "tensor_in.get_shape()"
      ],
      "execution_count": 23,
      "outputs": [
        {
          "output_type": "execute_result",
          "data": {
            "text/plain": [
              "TensorShape([Dimension(None), Dimension(5), Dimension(5), Dimension(128)])"
            ]
          },
          "metadata": {},
          "execution_count": 23
        }
      ]
    },
    {
      "cell_type": "code",
      "metadata": {
        "id": "Hz1NignWt9c8"
      },
      "source": [
        "    kernels[_scope.name] = kernels_raw\n"
      ],
      "execution_count": 24,
      "outputs": []
    },
    {
      "cell_type": "code",
      "metadata": {
        "colab": {
          "base_uri": "https://localhost:8080/"
        },
        "id": "5mptUNkQuB_4",
        "outputId": "6e0d254a-a130-4587-ae52-0deef7e02233"
      },
      "source": [
        "tensor_in.get_shape()"
      ],
      "execution_count": 25,
      "outputs": [
        {
          "output_type": "execute_result",
          "data": {
            "text/plain": [
              "TensorShape([Dimension(None), Dimension(5), Dimension(5), Dimension(128)])"
            ]
          },
          "metadata": {},
          "execution_count": 25
        }
      ]
    },
    {
      "cell_type": "code",
      "metadata": {
        "id": "RtSP7msJuFhS"
      },
      "source": [
        "# 2D convolution layer\n",
        "with tf.variable_scope(\"Layer_{}\".format(4)) as _scope:\n",
        "    ## Settings\n",
        "    Nc_out = 128\n",
        "    Nc_in = 21*128\n",
        "    ## Perform group convolution\n",
        "    # The kernels used in the group convolution layer\n",
        "    kernels_raw = tf.get_variable(\n",
        "                        'kernel', \n",
        "                        [Nc_in,Nc_out],\n",
        "                        initializer=weight_initializer(Nc_in,Nc_out))\n",
        "    tf.add_to_collection('raw_kernels', kernels_raw)\n",
        "    bias = tf.get_variable( # Same bias for all orientations\n",
        "                        \"bias\",\n",
        "                        [1, Nc_out], \n",
        "                        initializer=tf.constant_initializer(value=0.01))\n",
        "    tensor_out = PCET(tensor_in)\n",
        "    tensor_out = tf.add(tf.matmul(tensor_out, kernels_raw), bias)\n",
        "    tensor_out = tf.nn.relu(tensor_out)\n",
        "    \n",
        "    ## Prepare for the next layer\n",
        "    tensor_in = tensor_out\n",
        "    Nc_in = Nc_out\n",
        "    \n",
        "    ## Save kernels for inspection\n",
        "    kernels[_scope.name] = kernels_raw"
      ],
      "execution_count": 26,
      "outputs": []
    },
    {
      "cell_type": "code",
      "metadata": {
        "id": "wehbP1-v6E3H"
      },
      "source": [
        "with tf.variable_scope(\"Layer_{}\".format(5)) as _scope:\n",
        "    ## Settings\n",
        "    Nc_out = 10\n",
        "\n",
        "    ## Perform group convolution\n",
        "    # The kernels used in the group convolution layer\n",
        "    kernels_raw = tf.get_variable(\n",
        "                        'kernel', \n",
        "                        [Nc_in,Nc_out],\n",
        "                        initializer=weight_initializer(Nc_in,Nc_out))\n",
        "    tf.add_to_collection('raw_kernels', kernels_raw)\n",
        "    bias = tf.get_variable( # Same bias for all orientations\n",
        "                        \"bias\",\n",
        "                        [1, Nc_out], \n",
        "                        initializer=tf.constant_initializer(value=0.01))\n",
        "\n",
        "    # finally we multiply the fully connected layer with the weights and add a bias term. \n",
        "    tensor_out = tf.add(tf.matmul(tensor_in, kernels_raw), bias) \n",
        "        \n",
        "    ## The output logits\n",
        "    logits = tensor_out\n",
        "    predictions = tf.argmax(input=logits, axis=1)\n",
        "    probabilities = tf.nn.softmax(logits)\n",
        "    \n",
        "    ## Save the kernels for later inspection\n",
        "    kernels[_scope.name] = kernels_raw"
      ],
      "execution_count": 27,
      "outputs": []
    },
    {
      "cell_type": "code",
      "metadata": {
        "colab": {
          "base_uri": "https://localhost:8080/"
        },
        "id": "K3fnLnKzuL4X",
        "outputId": "cca060ad-f4de-4abd-c9f2-294c4e0813b4"
      },
      "source": [
        "logits.get_shape()"
      ],
      "execution_count": 28,
      "outputs": [
        {
          "output_type": "execute_result",
          "data": {
            "text/plain": [
              "TensorShape([Dimension(None), Dimension(10)])"
            ]
          },
          "metadata": {},
          "execution_count": 28
        }
      ]
    },
    {
      "cell_type": "code",
      "metadata": {
        "colab": {
          "base_uri": "https://localhost:8080/"
        },
        "id": "zQa9UjsTuPPR",
        "outputId": "3381ad64-ba57-44b7-d34f-56bf68dd0188"
      },
      "source": [
        "# Cross-entropy loss\n",
        "loss = tf.losses.sparse_softmax_cross_entropy(labels=labels_ph, logits=logits)"
      ],
      "execution_count": 29,
      "outputs": [
        {
          "output_type": "stream",
          "text": [
            "WARNING:tensorflow:From /usr/local/lib/python3.7/dist-packages/tensorflow_core/python/ops/losses/losses_impl.py:121: where (from tensorflow.python.ops.array_ops) is deprecated and will be removed in a future version.\n",
            "Instructions for updating:\n",
            "Use tf.where in 2.0, which has the same broadcast rule as np.where\n"
          ],
          "name": "stdout"
        }
      ]
    },
    {
      "cell_type": "code",
      "metadata": {
        "colab": {
          "base_uri": "https://localhost:8080/"
        },
        "id": "K_YZcbYhuStZ",
        "outputId": "82926f61-f939-4c9b-886f-d0654a9b38c2"
      },
      "source": [
        "#-- Define the l2 loss \n",
        "weightDecay=5e-4\n",
        "# Get the raw kernels\n",
        "variables_wd = tf.get_collection('raw_kernels')\n",
        "print('-----')\n",
        "print('RAW kernel shapes:')\n",
        "for v in variables_wd: print( \"[{}]: {}, total nr of weights = {}\".format(v.name, v.get_shape(), size_of(v)))\n",
        "print('-----')\n",
        "loss_l2 = weightDecay*sum([tf.nn.l2_loss(ker) for ker in variables_wd])"
      ],
      "execution_count": 30,
      "outputs": [
        {
          "output_type": "stream",
          "text": [
            "-----\n",
            "RAW kernel shapes:\n",
            "[Layer_1/kernel:0]: (5, 5, 1, 4), total nr of weights = 100\n",
            "[Layer_2/kernel:0]: (5, 5, 12, 4, 8), total nr of weights = 9600\n",
            "[Layer_3/kernel:0]: (5, 5, 96, 128), total nr of weights = 307200\n",
            "[Layer_4/kernel:0]: (2688, 128), total nr of weights = 344064\n",
            "[Layer_5/kernel:0]: (128, 10), total nr of weights = 1280\n",
            "-----\n"
          ],
          "name": "stdout"
        }
      ]
    },
    {
      "cell_type": "code",
      "metadata": {
        "id": "ZaYo78ApuWHu"
      },
      "source": [
        "# Configure the Training Op (for TRAIN mode)\n",
        "optimizer = tf.train.AdamOptimizer(learning_rate=0.001)\n",
        "\n",
        "train_op = optimizer.minimize(\n",
        "    loss=loss + loss_l2,\n",
        "    global_step=tf.train.get_global_step())"
      ],
      "execution_count": 31,
      "outputs": []
    },
    {
      "cell_type": "code",
      "metadata": {
        "id": "z8vStqpSuZxl"
      },
      "source": [
        "#-- Start the (GPU) session\n",
        "initializer = tf.global_variables_initializer()\n",
        "session = tf.Session(graph=tf.get_default_graph()) #-- Session created\n",
        "session.run(initializer)"
      ],
      "execution_count": 32,
      "outputs": []
    },
    {
      "cell_type": "code",
      "metadata": {
        "id": "n7PtSDb-udhf"
      },
      "source": [
        "batch_size=100\n",
        "n_epochs=10"
      ],
      "execution_count": 33,
      "outputs": []
    },
    {
      "cell_type": "code",
      "metadata": {
        "colab": {
          "base_uri": "https://localhost:8080/"
        },
        "id": "bwmA_V-zugyO",
        "outputId": "dfd2024e-bb90-411e-c1d2-623d73106ecf"
      },
      "source": [
        "for epoch_nr in range(n_epochs):\n",
        "    loss_average = 0\n",
        "    data = train_data_2D\n",
        "    labels = train_labels\n",
        "    # KBatch settings\n",
        "    NItPerEpoch = m.floor(len(data)/batch_size) #number of iterations per epoch\n",
        "    samples=np.random.permutation(len(data))\n",
        "    # Loop over dataset\n",
        "    tStart = time.time()\n",
        "    for iteration in range(NItPerEpoch):\n",
        "        feed_dict = {\n",
        "                inputs_ph: np.array(data[samples[iteration*batch_size:(iteration+1)*batch_size]]),\n",
        "                labels_ph: np.array(labels[samples[iteration*batch_size:(iteration+1)*batch_size]])\n",
        "                }\n",
        "        operators_output = session.run([ loss , train_op ], feed_dict)\n",
        "        loss_average += operators_output[0]/NItPerEpoch\n",
        "    tElapsed = time.time() - tStart\n",
        "    print('Epoch ' , epoch_nr , ' finished... Average loss = ' , round(loss_average,4) , ', time = ',round(tElapsed,4))"
      ],
      "execution_count": 34,
      "outputs": [
        {
          "output_type": "stream",
          "text": [
            "Epoch  0  finished... Average loss =  0.1971 , time =  16.4375\n",
            "Epoch  1  finished... Average loss =  0.0513 , time =  9.1949\n",
            "Epoch  2  finished... Average loss =  0.0378 , time =  9.1609\n",
            "Epoch  3  finished... Average loss =  0.0328 , time =  9.1557\n",
            "Epoch  4  finished... Average loss =  0.031 , time =  9.1686\n",
            "Epoch  5  finished... Average loss =  0.0284 , time =  9.1934\n",
            "Epoch  6  finished... Average loss =  0.0265 , time =  9.2115\n",
            "Epoch  7  finished... Average loss =  0.0245 , time =  9.2089\n",
            "Epoch  8  finished... Average loss =  0.0245 , time =  9.3079\n",
            "Epoch  9  finished... Average loss =  0.0214 , time =  9.2962\n"
          ],
          "name": "stdout"
        }
      ]
    },
    {
      "cell_type": "code",
      "metadata": {
        "id": "cLbHI0PYwym5"
      },
      "source": [
        "batch_size = 1000\n",
        "labels_pred = []\n",
        "for i in range(round(len(eval_data_2D)/batch_size)):\n",
        "    [ labels_pred_batch ] = session.run([ predictions ], { inputs_ph: eval_data_2D[i*batch_size:(i+1)*batch_size] })\n",
        "    labels_pred = labels_pred + list(labels_pred_batch)\n",
        "labels_pred = np.array(labels_pred)"
      ],
      "execution_count": 35,
      "outputs": []
    },
    {
      "cell_type": "code",
      "metadata": {
        "colab": {
          "base_uri": "https://localhost:8080/"
        },
        "id": "9utvNfz5w0jm",
        "outputId": "23322732-ea5d-4915-f478-f67f2b177479"
      },
      "source": [
        "print(labels_pred[0:10])\n",
        "print(eval_labels[0:10])"
      ],
      "execution_count": 36,
      "outputs": [
        {
          "output_type": "stream",
          "text": [
            "[7 2 1 0 4 1 4 9 5 9]\n",
            "[7 2 1 0 4 1 4 9 5 9]\n"
          ],
          "name": "stdout"
        }
      ]
    },
    {
      "cell_type": "code",
      "metadata": {
        "colab": {
          "base_uri": "https://localhost:8080/"
        },
        "id": "B-FGp8hYw6wr",
        "outputId": "223114ae-e6e5-40f8-c7ed-1557fbe28dc1"
      },
      "source": [
        "((labels_pred - eval_labels)**2==0).astype(float).mean()"
      ],
      "execution_count": 37,
      "outputs": [
        {
          "output_type": "execute_result",
          "data": {
            "text/plain": [
              "0.9887"
            ]
          },
          "metadata": {},
          "execution_count": 37
        }
      ]
    },
    {
      "cell_type": "code",
      "metadata": {
        "colab": {
          "base_uri": "https://localhost:8080/"
        },
        "id": "h1Rs6Zo0w_0z",
        "outputId": "0d8dc2ae-e6e8-46ad-8495-91b132bcbe18"
      },
      "source": [
        "((labels_pred - eval_labels)**2>0).astype(float).sum()"
      ],
      "execution_count": 38,
      "outputs": [
        {
          "output_type": "execute_result",
          "data": {
            "text/plain": [
              "113.0"
            ]
          },
          "metadata": {},
          "execution_count": 38
        }
      ]
    },
    {
      "cell_type": "code",
      "metadata": {
        "colab": {
          "base_uri": "https://localhost:8080/"
        },
        "id": "4HZWRpYwxGtU",
        "outputId": "526e3eca-141d-4170-ab1c-968bedb12105"
      },
      "source": [
        "100*((labels_pred - eval_labels)**2>0).astype(float).mean()"
      ],
      "execution_count": 39,
      "outputs": [
        {
          "output_type": "execute_result",
          "data": {
            "text/plain": [
              "1.13"
            ]
          },
          "metadata": {},
          "execution_count": 39
        }
      ]
    },
    {
      "cell_type": "code",
      "metadata": {
        "colab": {
          "base_uri": "https://localhost:8080/",
          "height": 328
        },
        "id": "gEDWQJxnxJaH",
        "outputId": "47d67620-3585-4237-f3a5-b8102b3f571a"
      },
      "source": [
        "cm = confusion_matrix(eval_labels, labels_pred)\n",
        "plot_confusion_matrix(cm, range(10))"
      ],
      "execution_count": 40,
      "outputs": [
        {
          "output_type": "stream",
          "text": [
            "Confusion matrix, without normalization\n"
          ],
          "name": "stdout"
        },
        {
          "output_type": "display_data",
          "data": {
            "image/png": "[encoded data removed]",
            "text/plain": [
              "<Figure size 432x288 with 2 Axes>"
            ]
          },
          "metadata": {
            "needs_background": "light"
          }
        }
      ]
    }
  ]
}